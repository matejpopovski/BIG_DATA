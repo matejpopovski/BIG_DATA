{
 "cells": [
  {
   "cell_type": "markdown",
   "id": "1f16bc94-5843-4166-ad92-dcd4b9ae40cb",
   "metadata": {},
   "source": [
    "Jackson Kaiman, Matej Popovski"
   ]
  },
  {
   "cell_type": "code",
   "execution_count": 1,
   "id": "fbb9664a-8d8c-4631-a405-bcd1a9a5c0d1",
   "metadata": {},
   "outputs": [
    {
     "name": "stderr",
     "output_type": "stream",
     "text": [
      "Setting default log level to \"WARN\".\n",
      "To adjust logging level use sc.setLogLevel(newLevel). For SparkR, use setLogLevel(newLevel).\n",
      "24/11/06 22:37:59 WARN NativeCodeLoader: Unable to load native-hadoop library for your platform... using builtin-java classes where applicable\n"
     ]
    }
   ],
   "source": [
    "from pyspark import SparkContext\n",
    "SparkContext.getOrCreate().stop()"
   ]
  },
  {
   "cell_type": "code",
   "execution_count": 2,
   "id": "dfd748a4-512a-43d7-abc6-19aaf738feac",
   "metadata": {},
   "outputs": [],
   "source": [
    "from pyspark.sql import SparkSession\n",
    "spark = (SparkSession.builder.appName(\"cs544\")\n",
    "         .master(\"spark://boss:7077\")\n",
    "         .config(\"spark.executor.memory\", \"1g\")\n",
    "         .config(\"spark.sql.warehouse.dir\", \"hdfs://nn:9000/user/hive/warehouse\")\n",
    "         .enableHiveSupport()\n",
    "         .getOrCreate())\n"
   ]
  },
  {
   "cell_type": "code",
   "execution_count": 3,
   "id": "99fb737c-ac1a-415a-b2d8-3b62b9a64e69",
   "metadata": {},
   "outputs": [
    {
     "name": "stderr",
     "output_type": "stream",
     "text": [
      "ERROR:root:Exception while sending command.\n",
      "Traceback (most recent call last):\n",
      "  File \"/usr/local/lib/python3.10/dist-packages/py4j/clientserver.py\", line 516, in send_command\n",
      "    raise Py4JNetworkError(\"Answer from Java side is empty\")\n",
      "py4j.protocol.Py4JNetworkError: Answer from Java side is empty\n",
      "\n",
      "During handling of the above exception, another exception occurred:\n",
      "\n",
      "Traceback (most recent call last):\n",
      "  File \"/usr/local/lib/python3.10/dist-packages/py4j/java_gateway.py\", line 1038, in send_command\n",
      "    response = connection.send_command(command)\n",
      "  File \"/usr/local/lib/python3.10/dist-packages/py4j/clientserver.py\", line 539, in send_command\n",
      "    raise Py4JNetworkError(\n",
      "py4j.protocol.Py4JNetworkError: Error while sending or receiving\n"
     ]
    }
   ],
   "source": [
    "!hdfs dfs -D dfs.replication=1 -cp -f data/*.csv hdfs://nn:9000/\n"
   ]
  },
  {
   "cell_type": "code",
   "execution_count": 4,
   "id": "8cc2d43d-4cde-47bf-9ef5-a3c95d21445d",
   "metadata": {},
   "outputs": [
    {
     "name": "stderr",
     "output_type": "stream",
     "text": [
      "                                                                                \r"
     ]
    },
    {
     "data": {
      "text/plain": [
       "298"
      ]
     },
     "execution_count": 4,
     "metadata": {},
     "output_type": "execute_result"
    }
   ],
   "source": [
    "#q1\n",
    "banks_df = spark.read.csv(\"hdfs://nn:9000/arid2017_to_lei_xref_csv.csv\", header=True, inferSchema=True)\n",
    "\n",
    "count = banks_df.rdd.filter(lambda row: row[\"respondent_name\"].startswith(\"The\")).count()\n",
    "count"
   ]
  },
  {
   "cell_type": "code",
   "execution_count": 5,
   "id": "fee99843-9343-45d2-b663-171c59820e0b",
   "metadata": {},
   "outputs": [
    {
     "data": {
      "text/plain": [
       "298"
      ]
     },
     "execution_count": 5,
     "metadata": {},
     "output_type": "execute_result"
    }
   ],
   "source": [
    "#q2\n",
    "count_df = banks_df.filter(\"respondent_name LIKE 'The%'\").count()\n",
    "count_df"
   ]
  },
  {
   "cell_type": "code",
   "execution_count": 6,
   "id": "177c630e-47e3-43c0-999c-bf93ad279d2b",
   "metadata": {},
   "outputs": [
    {
     "name": "stderr",
     "output_type": "stream",
     "text": [
      "24/11/06 22:38:28 WARN HiveConf: HiveConf of name hive.stats.jdbc.timeout does not exist\n",
      "24/11/06 22:38:28 WARN HiveConf: HiveConf of name hive.stats.retries.wait does not exist\n",
      "24/11/06 22:38:30 WARN ObjectStore: Version information not found in metastore. hive.metastore.schema.verification is not enabled so recording the schema version 2.3.0\n",
      "24/11/06 22:38:30 WARN ObjectStore: setMetaStoreSchemaVersion called but recording version is disabled: version = 2.3.0, comment = Set by MetaStore UNKNOWN@172.19.0.4\n",
      "24/11/06 22:38:31 WARN ObjectStore: Failed to get database global_temp, returning NoSuchObjectException\n",
      "24/11/06 22:38:33 WARN SessionState: METASTORE_FILTER_HOOK will be ignored, since hive.security.authorization.manager is set to instance of HiveAuthorizerFactory.\n",
      "24/11/06 22:38:33 WARN HiveConf: HiveConf of name hive.internal.ss.authz.settings.applied.marker does not exist\n",
      "24/11/06 22:38:33 WARN HiveConf: HiveConf of name hive.stats.jdbc.timeout does not exist\n",
      "24/11/06 22:38:33 WARN HiveConf: HiveConf of name hive.stats.retries.wait does not exist\n",
      "                                                                                \r"
     ]
    },
    {
     "data": {
      "text/plain": [
       "298"
      ]
     },
     "execution_count": 6,
     "metadata": {},
     "output_type": "execute_result"
    }
   ],
   "source": [
    "#q3\n",
    "spark.sql(\"CREATE DATABASE IF NOT EXISTS default\")\n",
    "\n",
    "banks_df.write.mode(\"overwrite\").saveAsTable(\"default.banks\")\n",
    "\n",
    "\n",
    "count_sql = spark.sql(\"SELECT COUNT(*) FROM banks WHERE respondent_name LIKE 'The%'\").collect()[0][0]\n",
    "count_sql\n"
   ]
  },
  {
   "cell_type": "code",
   "execution_count": 7,
   "id": "64da9a33-b693-4cfc-b20d-5e12d02e347a",
   "metadata": {},
   "outputs": [
    {
     "name": "stderr",
     "output_type": "stream",
     "text": [
      "24/11/06 22:38:46 WARN SparkStringUtils: Truncated the string representation of a plan since it was too large. This behavior can be adjusted by setting 'spark.sql.debug.maxToStringFields'.\n",
      "                                                                                \r"
     ]
    }
   ],
   "source": [
    "# loans_df = spark.read.csv(\"hdfs://nn:9000/hdma-wi-2021.csv\", header=True, inferSchema=True)\n",
    "\n",
    "# loans_df.write.bucketBy(8, \"county_code\").mode(\"overwrite\").saveAsTable(\"loans\")\n",
    "\n",
    "for table_name in [\"ethnicity\", \"race\", \"sex\", \"states\", \"counties\", \"tracts\", \"action_taken\",\n",
    "                   \"denial_reason\", \"loan_type\", \"loan_purpose\", \"preapproval\", \"property_type\"]:\n",
    "    df = spark.read.csv(f\"hdfs://nn:9000/{table_name}.csv\", header=True, inferSchema=True)\n",
    "    df.createOrReplaceTempView(table_name)\n",
    "\n",
    "\n",
    "\n",
    "loans_df = spark.read.option(\"header\", True).option(\"inferSchema\", True).csv(\"hdfs://nn:9000/hdma-wi-2021.csv\")\n",
    "loans_df.write.bucketBy(8,\"county_code\").saveAsTable(\"loans\", mode = \"overwrite\")"
   ]
  },
  {
   "cell_type": "code",
   "execution_count": 8,
   "id": "a4e2fa3a-d517-430a-8302-e2846019ddbc",
   "metadata": {},
   "outputs": [
    {
     "data": {
      "text/plain": [
       "{'banks': False,\n",
       " 'loans': False,\n",
       " 'action_taken': True,\n",
       " 'counties': True,\n",
       " 'denial_reason': True,\n",
       " 'ethnicity': True,\n",
       " 'loan_purpose': True,\n",
       " 'loan_type': True,\n",
       " 'preapproval': True,\n",
       " 'property_type': True,\n",
       " 'race': True,\n",
       " 'sex': True,\n",
       " 'states': True,\n",
       " 'tracts': True}"
      ]
     },
     "execution_count": 8,
     "metadata": {},
     "output_type": "execute_result"
    }
   ],
   "source": [
    "#q4\n",
    "# loans_df.write.mode(\"overwrite\").saveAsTable(\"loans\")\n",
    "# banks_df.write.mode(\"overwrite\").saveAsTable(\"banks\")\n",
    "\n",
    "tables_df = spark.sql(\"SHOW TABLES\")\n",
    "table_dict = {row.tableName: row.isTemporary for row in tables_df.collect()}\n",
    "table_dict\n"
   ]
  },
  {
   "cell_type": "code",
   "execution_count": 9,
   "id": "bd9e12ac-f0b6-4e22-8dfb-88b5c1981415",
   "metadata": {},
   "outputs": [
    {
     "name": "stderr",
     "output_type": "stream",
     "text": [
      "                                                                                \r"
     ]
    },
    {
     "data": {
      "text/plain": [
       "19739"
      ]
     },
     "execution_count": 9,
     "metadata": {},
     "output_type": "execute_result"
    }
   ],
   "source": [
    "#q5\n",
    "loan_apps_count = spark.sql(\"\"\"\n",
    "    SELECT COUNT(*) AS count\n",
    "    FROM banks\n",
    "    INNER JOIN loans ON banks.lei_2020 = loans.lei\n",
    "    WHERE banks.respondent_name = 'University of Wisconsin Credit Union'\n",
    "\"\"\").collect()[0][\"count\"]\n",
    "\n",
    "loan_apps_count"
   ]
  },
  {
   "cell_type": "code",
   "execution_count": 10,
   "id": "bb40feab-8910-4a93-8d03-ee12caa15f24",
   "metadata": {},
   "outputs": [
    {
     "name": "stdout",
     "output_type": "stream",
     "text": [
      "== Physical Plan ==\n",
      "AdaptiveSparkPlan (12)\n",
      "+- HashAggregate (11)\n",
      "   +- Exchange (10)\n",
      "      +- HashAggregate (9)\n",
      "         +- Project (8)\n",
      "            +- BroadcastHashJoin Inner BuildLeft (7)\n",
      "               :- BroadcastExchange (4)\n",
      "               :  +- Project (3)\n",
      "               :     +- Filter (2)\n",
      "               :        +- Scan parquet spark_catalog.default.banks (1)\n",
      "               +- Filter (6)\n",
      "                  +- Scan parquet spark_catalog.default.loans (5)\n",
      "\n",
      "\n",
      "(1) Scan parquet spark_catalog.default.banks\n",
      "Output [2]: [respondent_name#65, lei_2020#69]\n",
      "Batched: true\n",
      "Location: InMemoryFileIndex [hdfs://nn:9000/user/hive/warehouse/banks]\n",
      "PushedFilters: [IsNotNull(respondent_name), EqualTo(respondent_name,University of Wisconsin Credit Union), IsNotNull(lei_2020)]\n",
      "ReadSchema: struct<respondent_name:string,lei_2020:string>\n",
      "\n",
      "(2) Filter\n",
      "Input [2]: [respondent_name#65, lei_2020#69]\n",
      "Condition : ((isnotnull(respondent_name#65) AND (respondent_name#65 = University of Wisconsin Credit Union)) AND isnotnull(lei_2020#69))\n",
      "\n",
      "(3) Project\n",
      "Output [1]: [lei_2020#69]\n",
      "Input [2]: [respondent_name#65, lei_2020#69]\n",
      "\n",
      "(4) BroadcastExchange\n",
      "Input [1]: [lei_2020#69]\n",
      "Arguments: HashedRelationBroadcastMode(List(input[0, string, true]),false), [plan_id=626]\n",
      "\n",
      "(5) Scan parquet spark_catalog.default.loans\n",
      "Output [1]: [lei#989]\n",
      "Batched: true\n",
      "Bucketed: false (bucket column(s) not read)\n",
      "Location: InMemoryFileIndex [hdfs://nn:9000/user/hive/warehouse/loans]\n",
      "PushedFilters: [IsNotNull(lei)]\n",
      "ReadSchema: struct<lei:string>\n",
      "\n",
      "(6) Filter\n",
      "Input [1]: [lei#989]\n",
      "Condition : isnotnull(lei#989)\n",
      "\n",
      "(7) BroadcastHashJoin\n",
      "Left keys [1]: [lei_2020#69]\n",
      "Right keys [1]: [lei#989]\n",
      "Join type: Inner\n",
      "Join condition: None\n",
      "\n",
      "(8) Project\n",
      "Output: []\n",
      "Input [2]: [lei_2020#69, lei#989]\n",
      "\n",
      "(9) HashAggregate\n",
      "Input: []\n",
      "Keys: []\n",
      "Functions [1]: [partial_count(1)]\n",
      "Aggregate Attributes [1]: [count#1094L]\n",
      "Results [1]: [count#1095L]\n",
      "\n",
      "(10) Exchange\n",
      "Input [1]: [count#1095L]\n",
      "Arguments: SinglePartition, ENSURE_REQUIREMENTS, [plan_id=631]\n",
      "\n",
      "(11) HashAggregate\n",
      "Input [1]: [count#1095L]\n",
      "Keys: []\n",
      "Functions [1]: [count(1)]\n",
      "Aggregate Attributes [1]: [count(1)#1092L]\n",
      "Results [1]: [count(1)#1092L AS count#1091L]\n",
      "\n",
      "(12) AdaptiveSparkPlan\n",
      "Output [1]: [count#1091L]\n",
      "Arguments: isFinalPlan=false\n",
      "\n",
      "\n"
     ]
    }
   ],
   "source": [
    "#q6\n",
    "spark.sql(\"\"\"\n",
    "    SELECT COUNT(*) AS count\n",
    "    FROM banks\n",
    "    INNER JOIN loans ON banks.lei_2020 = loans.lei\n",
    "    WHERE banks.respondent_name = 'University of Wisconsin Credit Union'\n",
    "\"\"\").explain(\"formatted\")"
   ]
  },
  {
   "cell_type": "code",
   "execution_count": 11,
   "id": "e5a850f4-58a6-4391-a38e-72d2d0004e3a",
   "metadata": {},
   "outputs": [
    {
     "name": "stderr",
     "output_type": "stream",
     "text": [
      "                                                                                \r"
     ]
    },
    {
     "data": {
      "text/plain": [
       "{'Milwaukee': 3.1173465727097907,\n",
       " 'Waukesha': 2.8758225602027756,\n",
       " 'Washington': 2.851009389671362,\n",
       " 'Dane': 2.890674955595027,\n",
       " 'Brown': 3.010949119373777,\n",
       " 'Racine': 3.099783715012723,\n",
       " 'Outagamie': 2.979661835748792,\n",
       " 'Winnebago': 3.0284761904761908,\n",
       " 'Ozaukee': 2.8673765432098772,\n",
       " 'Sheboygan': 2.995511111111111}"
      ]
     },
     "execution_count": 11,
     "metadata": {},
     "output_type": "execute_result"
    }
   ],
   "source": [
    "#q7\n",
    "import matplotlib.pyplot as plt\n",
    "wells_fargo_name = \"Wells Fargo Bank, National Association\" \n",
    "\n",
    "\n",
    "top_10_int_rates = spark.sql(f\"\"\"\n",
    "    SELECT counties.name, AVG(loans.interest_rate) AS avg_interest_rate\n",
    "    FROM loans\n",
    "    JOIN banks ON loans.lei = banks.lei_2020\n",
    "    JOIN counties ON loans.county_code = counties.STATE*1000 + counties.COUNTY\n",
    "    WHERE banks.respondent_name = '{wells_fargo_name}'\n",
    "    GROUP BY counties.name\n",
    "    ORDER BY COUNT(loans.interest_rate) DESC\n",
    "    LIMIT 10\n",
    "\"\"\").collect()\n",
    "\n",
    "\n",
    "int_rate_dict = {row[\"name\"]: row[\"avg_interest_rate\"] for row in top_10_int_rates}\n",
    "int_rate_dict"
   ]
  },
  {
   "cell_type": "code",
   "execution_count": 12,
   "id": "c5561d02-7662-436d-b703-51ed30b7bb86",
   "metadata": {},
   "outputs": [
    {
     "data": {
      "image/png": "[encoded data removed]",
      "text/plain": [
       "<Figure size 1000x600 with 1 Axes>"
      ]
     },
     "metadata": {},
     "output_type": "display_data"
    }
   ],
   "source": [
    "# Data for plotting\n",
    "names = list(int_rate_dict.keys())\n",
    "avg_rates = list(int_rate_dict.values())\n",
    "\n",
    "# Bar plot\n",
    "plt.figure(figsize=(10, 6)) #CHATGPT: \"Answer Q7 with a Python dict that looks like this: <image>\": followed with copy of my output. \n",
    "plt.bar(names, avg_rates)\n",
    "plt.xlabel(\"County\")\n",
    "plt.ylabel(\"Average Interest Rate\")\n",
    "plt.xticks(rotation=90)\n",
    "plt.title(\"Average Interest Rate for Wells Fargo Applications in Top 10 Counties\")\n",
    "plt.show()"
   ]
  },
  {
   "cell_type": "code",
   "execution_count": 13,
   "id": "e530af12-a233-4b1a-9290-720f9128dff2",
   "metadata": {},
   "outputs": [
    {
     "name": "stdout",
     "output_type": "stream",
     "text": [
      "== Physical Plan ==\n",
      "AdaptiveSparkPlan (4)\n",
      "+- HashAggregate (3)\n",
      "   +- HashAggregate (2)\n",
      "      +- Scan parquet spark_catalog.default.loans (1)\n",
      "\n",
      "\n",
      "(1) Scan parquet spark_catalog.default.loans\n",
      "Output [2]: [county_code#992, interest_rate#1011]\n",
      "Batched: true\n",
      "Bucketed: true\n",
      "Location: InMemoryFileIndex [hdfs://nn:9000/user/hive/warehouse/loans]\n",
      "ReadSchema: struct<county_code:string,interest_rate:string>\n",
      "SelectedBucketsCount: 8 out of 8\n",
      "\n",
      "(2) HashAggregate\n",
      "Input [2]: [county_code#992, interest_rate#1011]\n",
      "Keys [1]: [county_code#992]\n",
      "Functions [1]: [partial_avg(cast(interest_rate#1011 as double))]\n",
      "Aggregate Attributes [2]: [sum#1124, count#1125L]\n",
      "Results [3]: [county_code#992, sum#1126, count#1127L]\n",
      "\n",
      "(3) HashAggregate\n",
      "Input [3]: [county_code#992, sum#1126, count#1127L]\n",
      "Keys [1]: [county_code#992]\n",
      "Functions [1]: [avg(cast(interest_rate#1011 as double))]\n",
      "Aggregate Attributes [1]: [avg(cast(interest_rate#1011 as double))#1121]\n",
      "Results [2]: [county_code#992, avg(cast(interest_rate#1011 as double))#1121 AS avg_interest_rate#1120]\n",
      "\n",
      "(4) AdaptiveSparkPlan\n",
      "Output [2]: [county_code#992, avg_interest_rate#1120]\n",
      "Arguments: isFinalPlan=false\n",
      "\n",
      "\n",
      "== Physical Plan ==\n",
      "AdaptiveSparkPlan (5)\n",
      "+- HashAggregate (4)\n",
      "   +- Exchange (3)\n",
      "      +- HashAggregate (2)\n",
      "         +- Scan parquet spark_catalog.default.loans (1)\n",
      "\n",
      "\n",
      "(1) Scan parquet spark_catalog.default.loans\n",
      "Output [2]: [lei#989, interest_rate#1011]\n",
      "Batched: true\n",
      "Bucketed: false (bucket column(s) not read)\n",
      "Location: InMemoryFileIndex [hdfs://nn:9000/user/hive/warehouse/loans]\n",
      "ReadSchema: struct<lei:string,interest_rate:string>\n",
      "\n",
      "(2) HashAggregate\n",
      "Input [2]: [lei#989, interest_rate#1011]\n",
      "Keys [1]: [lei#989]\n",
      "Functions [1]: [partial_avg(cast(interest_rate#1011 as double))]\n",
      "Aggregate Attributes [2]: [sum#1132, count#1133L]\n",
      "Results [3]: [lei#989, sum#1134, count#1135L]\n",
      "\n",
      "(3) Exchange\n",
      "Input [3]: [lei#989, sum#1134, count#1135L]\n",
      "Arguments: hashpartitioning(lei#989, 200), ENSURE_REQUIREMENTS, [plan_id=924]\n",
      "\n",
      "(4) HashAggregate\n",
      "Input [3]: [lei#989, sum#1134, count#1135L]\n",
      "Keys [1]: [lei#989]\n",
      "Functions [1]: [avg(cast(interest_rate#1011 as double))]\n",
      "Aggregate Attributes [1]: [avg(cast(interest_rate#1011 as double))#1129]\n",
      "Results [2]: [lei#989, avg(cast(interest_rate#1011 as double))#1129 AS avg_interest_rate#1128]\n",
      "\n",
      "(5) AdaptiveSparkPlan\n",
      "Output [2]: [lei#989, avg_interest_rate#1128]\n",
      "Arguments: isFinalPlan=false\n",
      "\n",
      "\n"
     ]
    }
   ],
   "source": [
    "#q8\n",
    "# Group by county_code\n",
    "spark.sql(\"SELECT county_code, AVG(interest_rate) AS avg_interest_rate FROM loans GROUP BY county_code\").explain(\"formatted\")\n",
    "\n",
    "# Group by lei\n",
    "spark.sql(\"SELECT lei, AVG(interest_rate) AS avg_interest_rate FROM loans GROUP BY lei\").explain(\"formatted\")\n",
    "\n",
    "\n",
    "\n",
    "# Grouping by county_code doesn’t require network I/O because the loans table was bucketed by county_code,\n",
    "# so each partition already has distinct county_code values. In contrast, grouping by lei requires a network shuffle\n",
    "# since the data isn’t bucketed by lei, meaning Spark has to move data across partitions to group rows with the same lei.\n",
    "# You can spot this by looking for a ShuffleExchange operation in the query plan, which signals a network shuffle."
   ]
  },
  {
   "cell_type": "code",
   "execution_count": 14,
   "id": "8ef33d2a-9565-4c5e-b459-b58f8c1cc111",
   "metadata": {},
   "outputs": [],
   "source": [
    "from pyspark.ml.feature import VectorAssembler\n",
    "\n",
    "assembler = VectorAssembler(inputCols=[\"loan_amount\", \"income\", \"interest_rate\"], outputCol=\"features\") # CHATGPT: Use the VectorAssembler to combine the feature columns loan_amount,income, interest_rate into a single column.\n"
   ]
  },
  {
   "cell_type": "code",
   "execution_count": 15,
   "id": "b96d90b9-a0be-4027-96c0-f2abf8174e51",
   "metadata": {},
   "outputs": [],
   "source": [
    "from pyspark.sql import SparkSession\n",
    "from pyspark.sql.functions import when\n",
    "from pyspark.ml.classification import DecisionTreeClassifier\n",
    "from pyspark.ml.evaluation import MulticlassClassificationEvaluator\n",
    "from pyspark.ml.pipeline import Pipeline\n",
    "\n",
    "df = spark.sql(\"SELECT loan_amount, income, interest_rate, action_taken FROM loans\")\n",
    "\n",
    "df = df.withColumn(\"approval\", when(df[\"action_taken\"] == 1, 1.0).otherwise(0.0))\n",
    "\n",
    "df = df.select(\"loan_amount\", \"income\", \"interest_rate\", \"approval\")\n",
    "\n",
    "df = df.withColumn(\"loan_amount\", df[\"loan_amount\"].cast(\"double\")) \\\n",
    "       .withColumn(\"income\", df[\"income\"].cast(\"double\")) \\\n",
    "       .withColumn(\"interest_rate\", df[\"interest_rate\"].cast(\"double\")) \\\n",
    "       .withColumn(\"approval\", df[\"approval\"].cast(\"double\"))\n",
    "\n",
    "df = df.fillna(0.0)\n",
    "\n",
    "\n",
    "train, test = df.randomSplit([0.8, 0.2], seed=41)\n",
    "train.cache()\n",
    "\n",
    "accuracies = {}\n",
    "\n",
    "\n"
   ]
  },
  {
   "cell_type": "code",
   "execution_count": 16,
   "id": "ca796287-2ae0-4b53-be06-cd2fcc916afc",
   "metadata": {},
   "outputs": [
    {
     "name": "stderr",
     "output_type": "stream",
     "text": [
      "24/11/06 22:39:32 WARN DAGScheduler: Broadcasting large task binary with size 1073.2 KiB\n",
      "24/11/06 22:39:33 WARN DAGScheduler: Broadcasting large task binary with size 1365.5 KiB\n",
      "24/11/06 22:39:34 WARN DAGScheduler: Broadcasting large task binary with size 1686.3 KiB\n",
      "24/11/06 22:39:34 WARN DAGScheduler: Broadcasting large task binary with size 2040.0 KiB\n",
      "24/11/06 22:39:35 WARN DAGScheduler: Broadcasting large task binary with size 2.3 MiB\n",
      "                                                                                \r"
     ]
    },
    {
     "data": {
      "text/plain": [
       "{'depth=1': 0.8809425750509244,\n",
       " 'depth=5': 0.8929195560947918,\n",
       " 'depth=10': 0.8954796914480349,\n",
       " 'depth=15': 0.8948674851679115,\n",
       " 'depth=20': 0.893943610236089}"
      ]
     },
     "execution_count": 16,
     "metadata": {},
     "output_type": "execute_result"
    }
   ],
   "source": [
    "#q9\n",
    "for depth in [1, 5, 10, 15, 20]:\n",
    "    dt = DecisionTreeClassifier(labelCol=\"approval\", featuresCol=\"features\", maxDepth=depth, seed=41)\n",
    "    pipeline = Pipeline(stages = [assembler, dt])\n",
    "    model = pipeline.fit(train)\n",
    "    predictions = model.transform(test)\n",
    "    evaluator = MulticlassClassificationEvaluator(labelCol=\"approval\", predictionCol=\"prediction\", metricName=\"accuracy\") \n",
    "    accuracy = evaluator.evaluate(predictions) # CHATGPT: Train 5 DecisionTreeClassifier on your training data to predict approved based on the features by setting max depth to be 1, 5, 10, 15, 20, respectively. When creating each DecisionTreeClassifier object, please also set seed to be always 41 (which is a different process from splitting train and test split) and keep other parameters default. You won't pass autograder or our test cases if you do not do so when creating DecisionTreeClassifier objects.\n",
    "\n",
    "    accuracies[f\"depth={depth}\"] = accuracy\n",
    "\n",
    "accuracies\n"
   ]
  },
  {
   "cell_type": "code",
   "execution_count": 17,
   "id": "b8edacce-728c-4af1-b00a-fce2a5dbb5b9",
   "metadata": {},
   "outputs": [],
   "source": [
    "#q10\n",
    "# Test accuracy doesn’t always go up with a higher max depth. As depth increases, the model starts fitting \n",
    "# too closely to the training data, capturing noise rather than real patterns. This is called overfitting. \n",
    "# A model that’s too deep can perform worse on test data because it’s tuned to the specifics of the training set, \n",
    "# making it less effective at generalizing to new data."
   ]
  }
 ],
 "metadata": {
  "kernelspec": {
   "display_name": "Python 3 (ipykernel)",
   "language": "python",
   "name": "python3"
  },
  "language_info": {
   "codemirror_mode": {
    "name": "ipython",
    "version": 3
   },
   "file_extension": ".py",
   "mimetype": "text/x-python",
   "name": "python",
   "nbconvert_exporter": "python",
   "pygments_lexer": "ipython3",
   "version": "3.10.12"
  }
 },
 "nbformat": 4,
 "nbformat_minor": 5
}
