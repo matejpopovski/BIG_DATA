{
 "cells": [
  {
   "cell_type": "code",
   "execution_count": 1,
   "id": "f67df028-742a-4d30-8b56-2339cbc5267b",
   "metadata": {},
   "outputs": [
    {
     "name": "stdout",
     "output_type": "stream",
     "text": [
      "Requirement already satisfied: google-cloud-bigquery in ./venv/lib/python3.12/site-packages (3.27.0)\n",
      "Requirement already satisfied: google-api-core<3.0.0dev,>=2.11.1 in ./venv/lib/python3.12/site-packages (from google-api-core[grpc]<3.0.0dev,>=2.11.1->google-cloud-bigquery) (2.24.0)\n",
      "Requirement already satisfied: google-auth<3.0.0dev,>=2.14.1 in ./venv/lib/python3.12/site-packages (from google-cloud-bigquery) (2.36.0)\n",
      "Requirement already satisfied: google-cloud-core<3.0.0dev,>=2.4.1 in ./venv/lib/python3.12/site-packages (from google-cloud-bigquery) (2.4.1)\n",
      "Requirement already satisfied: google-resumable-media<3.0dev,>=2.0.0 in ./venv/lib/python3.12/site-packages (from google-cloud-bigquery) (2.7.2)\n",
      "Requirement already satisfied: packaging>=20.0.0 in ./venv/lib/python3.12/site-packages (from google-cloud-bigquery) (24.2)\n",
      "Requirement already satisfied: python-dateutil<3.0dev,>=2.7.3 in ./venv/lib/python3.12/site-packages (from google-cloud-bigquery) (2.9.0.post0)\n",
      "Requirement already satisfied: requests<3.0.0dev,>=2.21.0 in ./venv/lib/python3.12/site-packages (from google-cloud-bigquery) (2.32.3)\n",
      "Requirement already satisfied: googleapis-common-protos<2.0.dev0,>=1.56.2 in ./venv/lib/python3.12/site-packages (from google-api-core<3.0.0dev,>=2.11.1->google-api-core[grpc]<3.0.0dev,>=2.11.1->google-cloud-bigquery) (1.66.0)\n",
      "Requirement already satisfied: protobuf!=3.20.0,!=3.20.1,!=4.21.0,!=4.21.1,!=4.21.2,!=4.21.3,!=4.21.4,!=4.21.5,<6.0.0.dev0,>=3.19.5 in ./venv/lib/python3.12/site-packages (from google-api-core<3.0.0dev,>=2.11.1->google-api-core[grpc]<3.0.0dev,>=2.11.1->google-cloud-bigquery) (5.29.1)\n",
      "Requirement already satisfied: proto-plus<2.0.0dev,>=1.22.3 in ./venv/lib/python3.12/site-packages (from google-api-core<3.0.0dev,>=2.11.1->google-api-core[grpc]<3.0.0dev,>=2.11.1->google-cloud-bigquery) (1.25.0)\n",
      "Requirement already satisfied: grpcio<2.0dev,>=1.33.2 in ./venv/lib/python3.12/site-packages (from google-api-core[grpc]<3.0.0dev,>=2.11.1->google-cloud-bigquery) (1.68.1)\n",
      "Requirement already satisfied: grpcio-status<2.0.dev0,>=1.33.2 in ./venv/lib/python3.12/site-packages (from google-api-core[grpc]<3.0.0dev,>=2.11.1->google-cloud-bigquery) (1.68.1)\n",
      "Requirement already satisfied: cachetools<6.0,>=2.0.0 in ./venv/lib/python3.12/site-packages (from google-auth<3.0.0dev,>=2.14.1->google-cloud-bigquery) (5.5.0)\n",
      "Requirement already satisfied: pyasn1-modules>=0.2.1 in ./venv/lib/python3.12/site-packages (from google-auth<3.0.0dev,>=2.14.1->google-cloud-bigquery) (0.4.1)\n",
      "Requirement already satisfied: rsa<5,>=3.1.4 in ./venv/lib/python3.12/site-packages (from google-auth<3.0.0dev,>=2.14.1->google-cloud-bigquery) (4.9)\n",
      "Requirement already satisfied: google-crc32c<2.0dev,>=1.0 in ./venv/lib/python3.12/site-packages (from google-resumable-media<3.0dev,>=2.0.0->google-cloud-bigquery) (1.6.0)\n",
      "Requirement already satisfied: six>=1.5 in ./venv/lib/python3.12/site-packages (from python-dateutil<3.0dev,>=2.7.3->google-cloud-bigquery) (1.17.0)\n",
      "Requirement already satisfied: charset-normalizer<4,>=2 in ./venv/lib/python3.12/site-packages (from requests<3.0.0dev,>=2.21.0->google-cloud-bigquery) (3.4.0)\n",
      "Requirement already satisfied: idna<4,>=2.5 in ./venv/lib/python3.12/site-packages (from requests<3.0.0dev,>=2.21.0->google-cloud-bigquery) (3.10)\n",
      "Requirement already satisfied: urllib3<3,>=1.21.1 in ./venv/lib/python3.12/site-packages (from requests<3.0.0dev,>=2.21.0->google-cloud-bigquery) (2.2.3)\n",
      "Requirement already satisfied: certifi>=2017.4.17 in ./venv/lib/python3.12/site-packages (from requests<3.0.0dev,>=2.21.0->google-cloud-bigquery) (2024.8.30)\n",
      "Requirement already satisfied: pyasn1<0.7.0,>=0.4.6 in ./venv/lib/python3.12/site-packages (from pyasn1-modules>=0.2.1->google-auth<3.0.0dev,>=2.14.1->google-cloud-bigquery) (0.6.1)\n"
     ]
    }
   ],
   "source": [
    "!pip install google-cloud-bigquery"
   ]
  },
  {
   "cell_type": "code",
   "execution_count": 2,
   "id": "10b2ffc4-7317-4e05-a800-0adb66fc62a4",
   "metadata": {},
   "outputs": [],
   "source": [
    "from google.cloud import bigquery\n",
    "client = bigquery.Client()"
   ]
  },
  {
   "cell_type": "code",
   "execution_count": 3,
   "id": "ec83f8ee-0774-46b4-8755-95520eb587d7",
   "metadata": {},
   "outputs": [
    {
     "data": {
      "text/plain": [
       "'55025'"
      ]
     },
     "execution_count": 3,
     "metadata": {},
     "output_type": "execute_result"
    }
   ],
   "source": [
    "#q1\n",
    "\n",
    "bq = bigquery.Client()\n",
    "\n",
    "no_cache = bigquery.QueryJobConfig(use_query_cache=False)\n",
    "\n",
    "query_q1 = \"\"\"\n",
    "SELECT geo_id\n",
    "FROM `bigquery-public-data.geo_us_boundaries.counties`\n",
    "WHERE county_name = 'Dane'\n",
    "\"\"\"\n",
    "\n",
    "dane = bq.query(query_q1, job_config=no_cache)\n",
    "df = dane.to_dataframe()\n",
    "geo_id_value = df.loc[0, \"geo_id\"]\n",
    "geo_id_value"
   ]
  },
  {
   "cell_type": "code",
   "execution_count": 4,
   "id": "a676252b-217e-4619-9277-fafa79497e33",
   "metadata": {},
   "outputs": [
    {
     "data": {
      "text/plain": [
       "{'48': 254, '13': 159, '51': 133, '21': 120, '29': 115}"
      ]
     },
     "execution_count": 4,
     "metadata": {},
     "output_type": "execute_result"
    }
   ],
   "source": [
    "#q2\n",
    "\n",
    "query_q2 = \"\"\"\n",
    "SELECT state_fips_code, COUNT(*) AS county_count\n",
    "FROM `bigquery-public-data.geo_us_boundaries.counties`\n",
    "GROUP BY state_fips_code\n",
    "ORDER BY county_count DESC\n",
    "LIMIT 5\n",
    "\"\"\"\n",
    "\n",
    "fips_5 = bq.query(query_q2, job_config=no_cache)\n",
    "df = fips_5.to_dataframe()\n",
    "df[\"county_count\"] = df[\"county_count\"].astype(int)\n",
    "top5 = dict(zip(df[\"state_fips_code\"], df[\"county_count\"]))\n",
    "\n",
    "top5"
   ]
  },
  {
   "cell_type": "code",
   "execution_count": 5,
   "id": "c2b2796a-9e10-4b5d-b257-e7be84c088d7",
   "metadata": {},
   "outputs": [
    {
     "data": {
      "text/plain": [
       "{'q1': '10 MB', 'q2': '10 MB'}"
      ]
     },
     "execution_count": 5,
     "metadata": {},
     "output_type": "execute_result"
    }
   ],
   "source": [
    "#q3\n",
    "from google.cloud import bigquery\n",
    "import math\n",
    "\n",
    "\n",
    "bytes1 = dane.total_bytes_billed / (1024**2)\n",
    "bytes2 = fips_5.total_bytes_billed / (1024**2)\n",
    "\n",
    "query_costs = { \n",
    "    \"q1\": f\"{round(bytes1)} MB\",\n",
    "    \"q2\": f\"{round(bytes2)} MB\"\n",
    "}\n",
    "\n",
    "\n",
    "\n",
    "query_costs"
   ]
  },
  {
   "cell_type": "code",
   "execution_count": 6,
   "id": "9b70be73-b518-48d7-8326-3ca5f65fe9a5",
   "metadata": {},
   "outputs": [
    {
     "data": {
      "text/plain": [
       "'p8'"
      ]
     },
     "execution_count": 6,
     "metadata": {},
     "output_type": "execute_result"
    }
   ],
   "source": [
    "# Create Dataset:\n",
    "dataset_id = \"cs544-fa24.p8\"\n",
    "\n",
    "dataset = bigquery.Dataset(dataset_id)\n",
    "dataset.location = \"US\"\n",
    "\n",
    "dataset = client.create_dataset(dataset, exists_ok=True)\n",
    "dataset.dataset_id"
   ]
  },
  {
   "cell_type": "code",
   "execution_count": 7,
   "id": "61b15e7f-67ac-4d7a-b9b2-319c16867b8f",
   "metadata": {},
   "outputs": [
    {
     "data": {
      "text/plain": [
       "['p8']"
      ]
     },
     "execution_count": 7,
     "metadata": {},
     "output_type": "execute_result"
    }
   ],
   "source": [
    "#q4\n",
    "datasets = list(client.list_datasets())\n",
    "dataset_ids = [dataset.dataset_id for dataset in datasets]\n",
    "dataset_ids"
   ]
  },
  {
   "cell_type": "code",
   "execution_count": 8,
   "id": "c4b16e7c-5e2b-4827-8b92-443751ef65ce",
   "metadata": {},
   "outputs": [
    {
     "name": "stdout",
     "output_type": "stream",
     "text": [
      "Tables in dataset:\n"
     ]
    }
   ],
   "source": [
    "from google.cloud import bigquery\n",
    "#check table\n",
    "client = bigquery.Client()\n",
    "tables = client.list_tables(\"cs544-fa24.p8\")\n",
    "\n",
    "print(\"Tables in dataset:\")\n",
    "for table in tables:\n",
    "    table.table_id\n"
   ]
  },
  {
   "cell_type": "code",
   "execution_count": 9,
   "id": "cff97df9-8f65-4d0f-8088-95ee4b418f70",
   "metadata": {},
   "outputs": [
    {
     "data": {
      "text/plain": [
       "<google.cloud.bigquery.table.RowIterator at 0x7e78f7795f40>"
      ]
     },
     "execution_count": 9,
     "metadata": {},
     "output_type": "execute_result"
    }
   ],
   "source": [
    "client.query(\"SELECT * FROM `cs544-fa24.p8.hdma` LIMIT 1\").result()\n",
    "client.query(\"SELECT * FROM `bigquery-public-data.geo_us_boundaries.counties` LIMIT 1\").result()"
   ]
  },
  {
   "cell_type": "code",
   "execution_count": 10,
   "id": "f0202fb3-cd90-4acf-be38-27bf21be71e6",
   "metadata": {},
   "outputs": [
    {
     "data": {
      "text/plain": [
       "{'Milwaukee': 46570,\n",
       " 'Dane': 38557,\n",
       " 'Waukesha': 34159,\n",
       " 'Brown': 15615,\n",
       " 'Racine': 13007,\n",
       " 'Outagamie': 11523,\n",
       " 'Kenosha': 10744,\n",
       " 'Washington': 10726,\n",
       " 'Rock': 9834,\n",
       " 'Winnebago': 9310}"
      ]
     },
     "execution_count": 10,
     "metadata": {},
     "output_type": "execute_result"
    }
   ],
   "source": [
    "#q5\n",
    "from google.cloud import bigquery\n",
    "\n",
    "client = bigquery.Client()\n",
    "\n",
    "query = \"\"\"\n",
    "SELECT counties.county_name AS county_name, COUNT(*) AS application_count\n",
    "FROM `cs544-fa24.p8.hdma` hdma\n",
    "JOIN `bigquery-public-data.geo_us_boundaries.counties` counties\n",
    "ON hdma.county_code = SUBSTR(CONCAT(counties.state_fips_code, counties.county_fips_code), -5) -- Match last 5 characters\n",
    "WHERE hdma.state_code = 'WI' -- Filter for Wisconsin\n",
    "GROUP BY county_name\n",
    "ORDER BY application_count DESC\n",
    "LIMIT 10\n",
    "\"\"\"\n",
    "\n",
    "result = client.query(query).result()\n",
    "\n",
    "applications_per_county = {row.county_name: row.application_count for row in result}\n",
    "\n",
    "applications_per_county"
   ]
  },
  {
   "cell_type": "code",
   "execution_count": 11,
   "id": "0de74431-2a14-4f67-a237-734596e520a5",
   "metadata": {},
   "outputs": [
    {
     "name": "stdout",
     "output_type": "stream",
     "text": [
      "Linked Google Sheet to BigQuery table: applications\n"
     ]
    }
   ],
   "source": [
    "\n",
    "from google.cloud import bigquery\n",
    "#link the sheet\n",
    "#ChatGPT: Link this google sheet [url] to the BigQuery API...\n",
    "dataset_id = \"cs544-fa24.p8\"\n",
    "table_id = \"applications\"\n",
    "sheet_url = \"https://docs.google.com/spreadsheets/d/13e14LzDDm9U4y2KddlKFAy7exNdbo1OwJa-OTe4ywiw/edit?gid=1070618599\"\n",
    "\n",
    "schema = [\n",
    "    bigquery.SchemaField(\"application_id\", \"STRING\"),\n",
    "    bigquery.SchemaField(\"income\", \"FLOAT\"),\n",
    "    bigquery.SchemaField(\"loan_amount\", \"FLOAT\"),\n",
    "    bigquery.SchemaField(\"latitude\", \"FLOAT\"),\n",
    "    bigquery.SchemaField(\"longitude\", \"FLOAT\"),\n",
    "]\n",
    "\n",
    "external_config = bigquery.ExternalConfig(\"GOOGLE_SHEETS\")\n",
    "external_config.source_uris = [sheet_url]\n",
    "external_config.options.skip_leading_rows = 1\n",
    "external_config.schema = schema\n",
    "\n",
    "table = bigquery.Table(f\"{dataset_id}.{table_id}\")\n",
    "table.external_data_configuration = external_config\n",
    "\n",
    "table = client.create_table(table, exists_ok=True)\n",
    "print(f\"Linked Google Sheet to BigQuery table: {table.table_id}\")"
   ]
  },
  {
   "cell_type": "code",
   "execution_count": 12,
   "id": "8efc60c8-a8cc-43e9-81da-ffc114f0302e",
   "metadata": {},
   "outputs": [
    {
     "data": {
      "text/plain": [
       "2"
      ]
     },
     "execution_count": 12,
     "metadata": {},
     "output_type": "execute_result"
    }
   ],
   "source": [
    "#q6\n",
    "chosen_income = 10000000\n",
    "\n",
    "query = f\"\"\"\n",
    "SELECT COUNT(*) AS application_count\n",
    "FROM `cs544-fa24.p8.applications`\n",
    "WHERE income = {chosen_income}\n",
    "\"\"\"\n",
    "\n",
    "result = client.query(query).result()\n",
    "application_count = [row.application_count for row in result][0]\n",
    "application_count"
   ]
  },
  {
   "cell_type": "code",
   "execution_count": 13,
   "id": "dbf4e8ca-85e5-4fe3-9b0e-442e2d0302a2",
   "metadata": {},
   "outputs": [
    {
     "data": {
      "text/plain": [
       "0.03905723794687299"
      ]
     },
     "execution_count": 13,
     "metadata": {},
     "output_type": "execute_result"
    }
   ],
   "source": [
    "#q7\n",
    "query_create_model = \"\"\"\n",
    "CREATE OR REPLACE MODEL `p8.my_linear_model`\n",
    "OPTIONS(model_type='linear_reg') AS\n",
    "SELECT\n",
    "  income AS x,\n",
    "  loan_amount AS label\n",
    "FROM `p8.applications`\n",
    "WHERE income IS NOT NULL AND loan_amount IS NOT NULL\n",
    "\n",
    "\"\"\"\n",
    "\n",
    "client.query(query_create_model).result()\n",
    "\n",
    "query_evaluate = \"\"\"\n",
    "SELECT r2_score\n",
    "FROM ML.EVALUATE(MODEL `p8.my_linear_model`)\n",
    "\"\"\"\n",
    "\n",
    "eval_df = client.query(query_evaluate).to_dataframe()\n",
    "r2_score = float(eval_df.loc[0, 'r2_score'])\n",
    "\n",
    "r2_score"
   ]
  },
  {
   "cell_type": "code",
   "execution_count": 14,
   "id": "1362d853-ca83-4bea-874e-5c0230993ea5",
   "metadata": {},
   "outputs": [
    {
     "data": {
      "text/plain": [
       "0.0"
      ]
     },
     "execution_count": 14,
     "metadata": {},
     "output_type": "execute_result"
    }
   ],
   "source": [
    "#q8\n",
    "query_q8 = \"\"\"\n",
    "SELECT MIN(ST_DISTANCE(\n",
    "    ST_GEOGPOINT(longitude, latitude),\n",
    "    ST_GEOGPOINT(-89.3842, 43.0747)\n",
    "  )) AS min_distance\n",
    "FROM `p8.applications`\n",
    "\"\"\"\n",
    "\n",
    "df_q8 = client.query(query_q8).to_dataframe()\n",
    "min_distance = float(df_q8.loc[0, 'min_distance'])\n",
    "min_distance"
   ]
  },
  {
   "cell_type": "code",
   "execution_count": 15,
   "id": "641d18eb-8d6f-42cc-b2e2-76b9d1d6c8ce",
   "metadata": {},
   "outputs": [
    {
     "data": {
      "text/plain": [
       "{'Dane': 71,\n",
       " 'Door': 9,\n",
       " 'Milwaukee': 7,\n",
       " 'Jefferson': 4,\n",
       " 'Bayfield': 3,\n",
       " 'Brown': 3,\n",
       " 'Marinette': 3,\n",
       " 'Oneida': 3,\n",
       " 'Sauk': 3,\n",
       " 'Juneau': 2,\n",
       " 'Shawano': 2,\n",
       " 'Fond du Lac': 2,\n",
       " 'Price': 2,\n",
       " 'St. Croix': 2,\n",
       " 'Waushara': 1,\n",
       " 'Ashland': 1,\n",
       " 'Winnebago': 1,\n",
       " 'Sawyer': 1,\n",
       " 'Columbia': 1,\n",
       " 'Forest': 1,\n",
       " 'Taylor': 1,\n",
       " 'Barron': 1,\n",
       " 'Wood': 1,\n",
       " 'Oconto': 1,\n",
       " 'Douglas': 1,\n",
       " 'Waukesha': 1,\n",
       " 'Vilas': 1,\n",
       " 'Iowa': 1,\n",
       " 'Walworth': 1,\n",
       " 'Green': 1,\n",
       " 'Rock': 1}"
      ]
     },
     "execution_count": 15,
     "metadata": {},
     "output_type": "execute_result"
    }
   ],
   "source": [
    "#q9\n",
    "query_q9 = \"\"\"\n",
    "SELECT c.county_name, COUNT(*) AS count\n",
    "FROM `p8.applications` a\n",
    "JOIN `bigquery-public-data.geo_us_boundaries.counties` c\n",
    "  ON c.state_fips_code = '55' \n",
    "  AND ST_WITHIN(\n",
    "    ST_GEOGPOINT(a.longitude, a.latitude),\n",
    "    c.county_geom\n",
    "  )\n",
    "GROUP BY c.county_name\n",
    "ORDER BY count DESC\n",
    "\"\"\"\n",
    "\n",
    "df_q9 = client.query(query_q9).to_dataframe()\n",
    "county_dict = {row['county_name']: int(row['count']) for _, row in df_q9.iterrows()}\n",
    "county_dict"
   ]
  },
  {
   "cell_type": "code",
   "execution_count": 16,
   "id": "dce072ad-d675-476d-bca2-2fdc100fdc69",
   "metadata": {},
   "outputs": [
    {
     "data": {
      "text/plain": [
       "['Columbia', 'Dodge', 'Green', 'Iowa', 'Jefferson', 'Rock', 'Sauk']"
      ]
     },
     "execution_count": 16,
     "metadata": {},
     "output_type": "execute_result"
    }
   ],
   "source": [
    "#q10\n",
    "query_q10 = \"\"\"\n",
    "WITH dane AS (\n",
    "  SELECT county_geom\n",
    "  FROM `bigquery-public-data.geo_us_boundaries.counties`\n",
    "  WHERE county_name = 'Dane' AND state_fips_code='55'\n",
    ")\n",
    "SELECT c.county_name\n",
    "FROM `bigquery-public-data.geo_us_boundaries.counties` c, dane\n",
    "WHERE c.state_fips_code='55'\n",
    "  AND c.county_name != 'Dane'\n",
    "  AND ST_TOUCHES(c.county_geom, dane.county_geom)\n",
    "ORDER BY county_name\n",
    "\"\"\"\n",
    "\n",
    "df_q10 = client.query(query_q10).to_dataframe()\n",
    "bordering_counties = df_q10['county_name'].tolist()\n",
    "bordering_counties"
   ]
  }
 ],
 "metadata": {
  "kernelspec": {
   "display_name": "Python 3 (ipykernel)",
   "language": "python",
   "name": "python3"
  },
  "language_info": {
   "codemirror_mode": {
    "name": "ipython",
    "version": 3
   },
   "file_extension": ".py",
   "mimetype": "text/x-python",
   "name": "python",
   "nbconvert_exporter": "python",
   "pygments_lexer": "ipython3",
   "version": "3.12.3"
  }
 },
 "nbformat": 4,
 "nbformat_minor": 5
}
