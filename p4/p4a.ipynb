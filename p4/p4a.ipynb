{
 "cells": [
  {
   "cell_type": "code",
   "execution_count": 1,
   "id": "cd4c7b2a-2715-4e94-9313-f691b0e401ee",
   "metadata": {},
   "outputs": [
    {
     "name": "stdout",
     "output_type": "stream",
     "text": [
      "Live datanodes (2):\n"
     ]
    }
   ],
   "source": [
    "#q1\n",
    "! hdfs dfsadmin -fs hdfs://boss:9000 -report | grep 'Live datanodes'"
   ]
  },
  {
   "cell_type": "code",
   "execution_count": 2,
   "id": "1180aa75-e5a7-446a-99ba-06c1e76c3266",
   "metadata": {},
   "outputs": [
    {
     "name": "stdout",
     "output_type": "stream",
     "text": [
      "--2024-10-26 03:27:56--  https://pages.cs.wisc.edu/~harter/cs544/data/hdma-wi-2021.csv\n",
      "Resolving pages.cs.wisc.edu (pages.cs.wisc.edu)... 128.105.7.9\n",
      "Connecting to pages.cs.wisc.edu (pages.cs.wisc.edu)|128.105.7.9|:443... connected.\n",
      "HTTP request sent, awaiting response... 200 OK\n",
      "Length: 174944099 (167M) [text/csv]\n",
      "Saving to: ‘/nb/hdma-wi-2021.csv’\n",
      "\n",
      "/nb/hdma-wi-2021.cs 100%[===================>] 166.84M   164MB/s    in 1.0s    \n",
      "\n",
      "2024-10-26 03:27:57 (164 MB/s) - ‘/nb/hdma-wi-2021.csv’ saved [174944099/174944099]\n",
      "\n"
     ]
    }
   ],
   "source": [
    "# Download CSV, convert to Parquet, and upload to HDFS\n",
    "! rm -rf \"/nb/hdma-wi-2021.csv\"\n",
    "! wget \"https://pages.cs.wisc.edu/~harter/cs544/data/hdma-wi-2021.csv\" -O \"/nb/hdma-wi-2021.csv\"\n",
    "\n",
    "import pyarrow.csv as pv\n",
    "import pyarrow.parquet as pq\n",
    "\n",
    "csv_input_path = \"/nb/hdma-wi-2021.csv\"\n",
    "parquet_output_path = \"/nb/hdma-wi-2021.parquet\"\n",
    "\n",
    "data_table = pv.read_csv(csv_input_path)\n",
    "pq.write_table(data_table, parquet_output_path)\n",
    "\n",
    "# Removing existing files in HDFS\n",
    "! hdfs dfs -rm -f hdfs://boss:9000/single.parquet\n",
    "! hdfs dfs -rm -f hdfs://boss:9000/double.parquet\n",
    "\n",
    "# Uploading Parquet files with different HDFS replication factors\n",
    "! hdfs dfs -D dfs.block.size=1048576 -D dfs.replication=1 -copyFromLocal {parquet_output_path} hdfs://boss:9000/single.parquet\n",
    "! hdfs dfs -D dfs.block.size=1048576 -D dfs.replication=2 -copyFromLocal {parquet_output_path} hdfs://boss:9000/double.parquet"
   ]
  },
  {
   "cell_type": "code",
   "execution_count": 3,
   "id": "a45aa69f-7cfc-451b-9b86-f923721d21cd",
   "metadata": {},
   "outputs": [
    {
     "name": "stdout",
     "output_type": "stream",
     "text": [
      "15.9 M  15.9 M  hdfs://boss:9000/single.parquet\n",
      "15.9 M  31.7 M  hdfs://boss:9000/double.parquet\n"
     ]
    }
   ],
   "source": [
    "#q2\n",
    "!hdfs dfs -du -h hdfs://boss:9000/single.parquet\n",
    "!hdfs dfs -du -h hdfs://boss:9000/double.parquet\n"
   ]
  },
  {
   "cell_type": "code",
   "execution_count": 4,
   "id": "f232b09d-0845-48a9-a87f-6db608d6d86a",
   "metadata": {},
   "outputs": [
    {
     "data": {
      "text/plain": [
       "{'FileStatus': {'accessTime': 1729913292248,\n",
       "  'blockSize': 1048576,\n",
       "  'childrenNum': 0,\n",
       "  'fileId': 16386,\n",
       "  'group': 'supergroup',\n",
       "  'length': 16642976,\n",
       "  'modificationTime': 1729913293940,\n",
       "  'owner': 'root',\n",
       "  'pathSuffix': '',\n",
       "  'permission': '644',\n",
       "  'replication': 1,\n",
       "  'storagePolicy': 0,\n",
       "  'type': 'FILE'}}"
      ]
     },
     "execution_count": 4,
     "metadata": {},
     "output_type": "execute_result"
    }
   ],
   "source": [
    "#q3\n",
    "import requests\n",
    "hdfs_url = \"http://boss:9870/webhdfs/v1/single.parquet\"\n",
    "params = {\n",
    "    \"op\": \"GETFILESTATUS\"\n",
    "}\n",
    "#q3\n",
    "response = requests.get(hdfs_url, params=params)\n",
    "file_status = response.json()\n",
    "file_status"
   ]
  },
  {
   "cell_type": "code",
   "execution_count": 5,
   "id": "47c5c616-c1aa-45bb-b7e0-91331e086e34",
   "metadata": {},
   "outputs": [
    {
     "data": {
      "text/plain": [
       "'http://5f58906980d3:9864/webhdfs/v1/single.parquet?op=OPEN&namenoderpcaddress=boss:9000&offset=0'"
      ]
     },
     "execution_count": 5,
     "metadata": {},
     "output_type": "execute_result"
    }
   ],
   "source": [
    "#q4\n",
    "url = \"http://boss:9870/webhdfs/v1/single.parquet\"\n",
    "query_params = {\n",
    "    \"op\": \"OPEN\",\n",
    "    \"offset\": 0,\n",
    "    \"noredirect\": \"true\"\n",
    "}\n",
    "\n",
    "hdfs_response = requests.get(url, params=query_params)\n",
    "redirect_location = hdfs_response.json()['Location']\n",
    "redirect_location"
   ]
  },
  {
   "cell_type": "code",
   "execution_count": 6,
   "id": "a079e4b5-83c9-4660-b075-2208064cf76d",
   "metadata": {},
   "outputs": [
    {
     "data": {
      "text/plain": [
       "{'5f58906980d3': 10, 'fb839ec815a3': 6}"
      ]
     },
     "execution_count": 6,
     "metadata": {},
     "output_type": "execute_result"
    }
   ],
   "source": [
    "#q5\n",
    "import re\n",
    "from collections import defaultdict\n",
    "\n",
    "def block_locations(hdfs_file_path, file_length, hdfs_block_size):\n",
    "    hdfs_base_url = f\"http://boss:9870/webhdfs/v1{hdfs_file_path}\"\n",
    "    block_map = defaultdict(int)\n",
    "\n",
    "    for current_offset in range(0, file_length, hdfs_block_size):\n",
    "        query_parameters = {\n",
    "            \"op\": \"OPEN\",\n",
    "            \"offset\": current_offset,\n",
    "            \"noredirect\": \"true\"\n",
    "        }\n",
    "        \n",
    "        hdfs_response = requests.get(hdfs_base_url, params=query_parameters)  \n",
    "        if hdfs_response.status_code == 200:\n",
    "            hdfs_data = hdfs_response.json()\n",
    "            block_location = hdfs_data['Location']\n",
    "            node_id = re.search(r'http://([^:]+):', block_location).group(1)\n",
    "            block_map[node_id] += 1\n",
    "    return dict(block_map)\n",
    "\n",
    "status_query = {\"op\": \"GETFILESTATUS\"}\n",
    "file_response = requests.get(\"http://boss:9870/webhdfs/v1/single.parquet\", params=status_query)\n",
    "file_metadata = file_response.json()['FileStatus']\n",
    "file_total_length = file_metadata['length']\n",
    "block_size_hdfs = file_metadata['blockSize']\n",
    "\n",
    "#q5\n",
    "block_distribution = block_locations(hdfs_file_path=\"/single.parquet\", file_length=file_total_length, hdfs_block_size=block_size_hdfs)\n",
    "block_distribution"
   ]
  },
  {
   "cell_type": "code",
   "execution_count": 7,
   "id": "04b1e501-84ca-4d5e-8ae9-685ea1bbfa5c",
   "metadata": {},
   "outputs": [
    {
     "data": {
      "text/plain": [
       "{'5f58906980d3': 16, 'fb839ec815a3': 16}"
      ]
     },
     "execution_count": 7,
     "metadata": {},
     "output_type": "execute_result"
    }
   ],
   "source": [
    "#q6\n",
    "import re\n",
    "from collections import defaultdict\n",
    "\n",
    "def fetch_block_distribution(hdfs_file_path, file_length):\n",
    "    hdfs_base_url = f\"http://boss:9870/webhdfs/v1{hdfs_file_path}\"\n",
    "    query_parameters = {\n",
    "        \"op\": \"GETFILEBLOCKLOCATIONS\",\n",
    "        \"length\": file_length\n",
    "    }\n",
    "    \n",
    "    hdfs_response = requests.get(hdfs_base_url, params=query_parameters)   \n",
    "    if hdfs_response.status_code == 200:\n",
    "        block_locations = hdfs_response.json()['BlockLocations']['BlockLocation']\n",
    "        host_block_distribution = defaultdict(int)\n",
    "        for block in block_locations:\n",
    "            for node in block['hosts']:\n",
    "                host_block_distribution[node] += 1\n",
    "        return dict(host_block_distribution)\n",
    "\n",
    "status_query = {\"op\": \"GETFILESTATUS\"}\n",
    "file_response = requests.get(\"http://boss:9870/webhdfs/v1/double.parquet\", params=status_query)\n",
    "file_metadata = file_response.json()['FileStatus']\n",
    "file_total_length = file_metadata['length']\n",
    "\n",
    "# Fetch block distribution\n",
    "block_distribution = fetch_block_distribution(\"/double.parquet\", file_total_length)\n",
    "block_distribution"
   ]
  },
  {
   "cell_type": "code",
   "execution_count": 8,
   "id": "3fc9ccd8-0ef6-4528-88e8-9d167dc65f08",
   "metadata": {},
   "outputs": [
    {
     "name": "stderr",
     "output_type": "stream",
     "text": [
      "2024-10-26 03:28:31,874 WARN util.NativeCodeLoader: Unable to load native-hadoop library for your platform... using builtin-java classes where applicable\n"
     ]
    },
    {
     "data": {
      "text/plain": [
       "204961.21752386744"
      ]
     },
     "execution_count": 8,
     "metadata": {},
     "output_type": "execute_result"
    }
   ],
   "source": [
    "#q7\n",
    "import pyarrow as pa\n",
    "import pyarrow.compute as pc\n",
    "import pyarrow.parquet as pq\n",
    "import time\n",
    "\n",
    "import pyarrow.fs\n",
    "\n",
    "#q7\n",
    "hdfs = pa.fs.HadoopFileSystem(host=\"boss\", port=9000)\n",
    "t0 = time.time()\n",
    "with hdfs.open_input_file(\"/double.parquet\") as parquet:\n",
    "    table = pq.read_table(parquet)\n",
    "loans_avg = pc.mean(table[\"loan_amount\"]).as_py()\n",
    "t1 = time.time()\n",
    "time_difference = t1-t0\n",
    "loans_avg\n"
   ]
  },
  {
   "cell_type": "code",
   "execution_count": 9,
   "id": "df26b4f8-2c55-4a47-ae02-6a6f4f14b6c8",
   "metadata": {},
   "outputs": [
    {
     "data": {
      "text/plain": [
       "25.175973389594933"
      ]
     },
     "execution_count": 9,
     "metadata": {},
     "output_type": "execute_result"
    }
   ],
   "source": [
    "#q8\n",
    "hdfs = pa.fs.HadoopFileSystem(host=\"boss\", port=9000)\n",
    "t0 = time.time()\n",
    "with hdfs.open_input_file(\"/double.parquet\") as parquet_file:\n",
    "    table = pq.read_table(parquet_file, columns=[\"loan_amount\"])\n",
    "avg_loan_amount = pc.mean(table[\"loan_amount\"]).as_py()\n",
    "t1 = time.time()\n",
    "time2 = t1 - t0\n",
    "optimized = time_difference / time2\n",
    "optimized"
   ]
  }
 ],
 "metadata": {
  "kernelspec": {
   "display_name": "Python 3 (ipykernel)",
   "language": "python",
   "name": "python3"
  },
  "language_info": {
   "codemirror_mode": {
    "name": "ipython",
    "version": 3
   },
   "file_extension": ".py",
   "mimetype": "text/x-python",
   "name": "python",
   "nbconvert_exporter": "python",
   "pygments_lexer": "ipython3",
   "version": "3.10.12"
  }
 },
 "nbformat": 4,
 "nbformat_minor": 5
}
