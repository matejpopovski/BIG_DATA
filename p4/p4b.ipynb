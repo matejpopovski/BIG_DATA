{
 "cells": [
  {
   "cell_type": "code",
   "execution_count": 2,
   "id": "dfb53d72-19b6-4dab-a105-6a8ecc96f206",
   "metadata": {},
   "outputs": [],
   "source": [
    "import pyarrow as pa\n",
    "import pyarrow.parquet as pq\n",
    "import time"
   ]
  },
  {
   "cell_type": "code",
   "execution_count": 2,
   "id": "3f9f6dc8-d7e9-4c19-9b82-cf1fff1306d3",
   "metadata": {},
   "outputs": [
    {
     "name": "stdout",
     "output_type": "stream",
     "text": [
      "Configured Capacity: 49766334464 (46.35 GB)\n",
      "Present Capacity: 19312889832 (17.99 GB)\n",
      "DFS Remaining: 19262521344 (17.94 GB)\n",
      "DFS Used: 50368488 (48.04 MB)\n",
      "DFS Used%: 0.26%\n",
      "Replicated Blocks:\n",
      "\tUnder replicated blocks: 0\n",
      "\tBlocks with corrupt replicas: 0\n",
      "\tMissing blocks: 0\n",
      "\tMissing blocks (with replication factor 1): 0\n",
      "\tLow redundancy blocks with highest priority to recover: 0\n",
      "\tPending deletion blocks: 0\n",
      "Erasure Coded Block Groups: \n",
      "\tLow redundancy block groups: 0\n",
      "\tBlock groups with corrupt internal blocks: 0\n",
      "\tMissing block groups: 0\n",
      "\tLow redundancy blocks with highest priority to recover: 0\n",
      "\tPending deletion blocks: 0\n",
      "\n",
      "-------------------------------------------------\n",
      "Live datanodes (1):\n",
      "\n",
      "Name: 172.21.0.5:9866 (p4_jkaiman_popovski-dn-2.p4_jkaiman_popovski_default)\n",
      "Hostname: 953b8d9b7940\n",
      "Decommission Status : Normal\n",
      "Configured Capacity: 24883167232 (23.17 GB)\n",
      "DFS Used: 23138338 (22.07 MB)\n",
      "Non DFS Used: 15212007390 (14.17 GB)\n",
      "DFS Remaining: 9631244288 (8.97 GB)\n",
      "DFS Used%: 0.09%\n",
      "DFS Remaining%: 38.71%\n",
      "Configured Cache Capacity: 0 (0 B)\n",
      "Cache Used: 0 (0 B)\n",
      "Cache Remaining: 0 (0 B)\n",
      "Cache Used%: 100.00%\n",
      "Cache Remaining%: 0.00%\n",
      "Xceivers: 0\n",
      "Last contact: Sat Oct 26 02:57:00 GMT 2024\n",
      "Last Block Report: Sat Oct 26 02:52:15 GMT 2024\n",
      "Num of Blocks: 22\n",
      "\n",
      "\n",
      "Dead datanodes (1):\n",
      "\n",
      "Name: 172.21.0.3:9866 (172.21.0.3)\n",
      "Hostname: 2920d5026175\n",
      "Decommission Status : Normal\n",
      "Configured Capacity: 24883167232 (23.17 GB)\n",
      "DFS Used: 27230150 (25.97 MB)\n",
      "Non DFS Used: 15207882810 (14.16 GB)\n",
      "DFS Remaining: 9631277056 (8.97 GB)\n",
      "DFS Used%: 0.11%\n",
      "DFS Remaining%: 38.71%\n",
      "Configured Cache Capacity: 0 (0 B)\n",
      "Cache Used: 0 (0 B)\n",
      "Cache Remaining: 0 (0 B)\n",
      "Cache Used%: 100.00%\n",
      "Cache Remaining%: 0.00%\n",
      "Xceivers: 0\n",
      "Last contact: Sat Oct 26 02:55:24 GMT 2024\n",
      "Last Block Report: Sat Oct 26 02:52:15 GMT 2024\n",
      "Num of Blocks: 26\n",
      "\n",
      "\n"
     ]
    }
   ],
   "source": [
    "#q9\n",
    "! hdfs dfsadmin -fs hdfs://boss:9000 -report "
   ]
  },
  {
   "cell_type": "code",
   "execution_count": 3,
   "id": "94805953-d065-4cb7-91ec-aeba759abc92",
   "metadata": {},
   "outputs": [
    {
     "data": {
      "text/plain": [
       "10"
      ]
     },
     "execution_count": 3,
     "metadata": {},
     "output_type": "execute_result"
    }
   ],
   "source": [
    "#q10\n",
    "import requests\n",
    "\n",
    "hdfs_url = \"http://boss:9870/webhdfs/v1/single.parquet\"\n",
    "\n",
    "request_params = {\n",
    "    \"op\": \"GETFILEBLOCKLOCATIONS\",  \n",
    "    \"length\": 1000000000            \n",
    "}\n",
    "\n",
    "response = requests.get(hdfs_url, params=request_params)\n",
    "\n",
    "file_blocks = response.json()['BlockLocations']['BlockLocation']\n",
    "\n",
    "num_lost_blocks = sum(1 for block in file_blocks if len(block['hosts']) == 0)\n",
    "\n",
    "num_lost_blocks"
   ]
  }
 ],
 "metadata": {
  "kernelspec": {
   "display_name": "Python 3 (ipykernel)",
   "language": "python",
   "name": "python3"
  },
  "language_info": {
   "codemirror_mode": {
    "name": "ipython",
    "version": 3
   },
   "file_extension": ".py",
   "mimetype": "text/x-python",
   "name": "python",
   "nbconvert_exporter": "python",
   "pygments_lexer": "ipython3",
   "version": "3.10.12"
  }
 },
 "nbformat": 4,
 "nbformat_minor": 5
}
